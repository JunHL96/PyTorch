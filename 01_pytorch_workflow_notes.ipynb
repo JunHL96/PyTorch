{
  "cells": [
    {
      "cell_type": "markdown",
      "metadata": {
        "id": "view-in-github",
        "colab_type": "text"
      },
      "source": [
        "<a href=\"https://colab.research.google.com/github/JunHL96/PyTorch/blob/main/01_pytorch_workflow_notes.ipynb\" target=\"_parent\"><img src=\"https://colab.research.google.com/assets/colab-badge.svg\" alt=\"Open In Colab\"/></a>"
      ]
    },
    {
      "cell_type": "markdown",
      "metadata": {
        "id": "0lPZV9px7qOW"
      },
      "source": [
        "# 01. PyTorch Workflow\n",
        "\n",
        "Let's explore an example of a PyTorch end-to-end workflow\n",
        "\n",
        "* Ground truth notebook: https://github.com/mrdbourke/pytorch-deep-learning/blob/main/01_pytorch_workflow\n",
        "* Book version of notebook: https://github.com/mrdbourke/pytorch-deep-learning-book/blob/main/01_pytorch_workflow\n",
        "* Ask a question: https://github.com/mrdbourke/pytorch-deep-learning/discussions\n",
        "\n",
        "## Example Workflow:\n",
        "\n",
        "1. Get data ready (turn into tensors)\n",
        "2. Build or pick a pretrained model (to suit your problem)\n",
        "* 2.1) Pick a loss function & optimizer\n",
        "* 2.2) Build a training loop\n",
        "* 2.3) Repeat step 2 until ready to move to step 3\n",
        "3. Fit the model to the data and make a prediction\n",
        "4. Evaluate the model\n",
        "5. Improve through experimentation\n",
        "6. Save and reload your trained model."
      ]
    },
    {
      "cell_type": "code",
      "execution_count": null,
      "metadata": {
        "id": "46FlXzMf7qOX",
        "outputId": "ce6e06d7-175a-4858-e69e-1fe569407ff0"
      },
      "outputs": [
        {
          "name": "stdout",
          "output_type": "stream",
          "text": [
            "Pytorch version: 2.5.0\n"
          ]
        }
      ],
      "source": [
        "import torch\n",
        "from torch import nn # nn contains all of PyTorch's building blocks for neural networks\n",
        "import matplotlib.pyplot as plt\n",
        "\n",
        "print(f\"Pytorch version: {torch.__version__}\")"
      ]
    },
    {
      "cell_type": "code",
      "execution_count": null,
      "metadata": {
        "id": "kLoFIPcR7qOX",
        "outputId": "4d140836-785a-4d78-d5c7-286fb69abf0b"
      },
      "outputs": [
        {
          "name": "stdout",
          "output_type": "stream",
          "text": [
            "Using device: mps\n"
          ]
        }
      ],
      "source": [
        "# Setup device-agnostic code\n",
        "if torch.cuda.is_available():\n",
        "    device = \"cuda\" # NVIDIA GPU\n",
        "elif torch.backends.mps.is_available():\n",
        "    device = \"mps\" # Apple GPU\n",
        "else:\n",
        "    device = \"cpu\" # Defaults to CPU if NVIDIA GPU/Apple GPU aren't available\n",
        "\n",
        "print(f\"Using device: {device}\")"
      ]
    },
    {
      "cell_type": "code",
      "execution_count": null,
      "metadata": {
        "id": "uTEp-9GY7qOX",
        "outputId": "e3f1eff9-4225-49c4-93ba-d5ec791df7d3"
      },
      "outputs": [
        {
          "data": {
            "text/plain": [
              "{1: 'data (prepare and load)',\n",
              " 2: 'build model',\n",
              " 3: 'fitting the model to data (training)',\n",
              " 4: 'making predictions and evaluating a model (inference)',\n",
              " 5: 'saving and loading a model',\n",
              " 6: 'putting it all together'}"
            ]
          },
          "execution_count": 34,
          "metadata": {},
          "output_type": "execute_result"
        }
      ],
      "source": [
        "what_we_are_covering = {1: \"data (prepare and load)\",\n",
        "                        2: \"build model\",\n",
        "                        3: \"fitting the model to data (training)\",\n",
        "                        4: \"making predictions and evaluating a model (inference)\",\n",
        "                        5: \"saving and loading a model\",\n",
        "                        6: \"putting it all together\"}\n",
        "\n",
        "what_we_are_covering"
      ]
    },
    {
      "cell_type": "markdown",
      "metadata": {
        "id": "YqqDUZdy7qOY"
      },
      "source": [
        "## 1. Data (preparing and loading)\n",
        "\n",
        "Data can be almost everything in ML:\n",
        "* Excel spreadsheet\n",
        "* Images of any kind\n",
        "* Videos (YouTube has lots of data)\n",
        "* Audio (Songs, podcasts, etc.)\n",
        "* DNA\n",
        "* Text\n",
        "\n",
        "ML is a game of two parts:\n",
        "1. Get data into a numerical representation\n",
        "2. Build a model to learn patterns in that numerical representation.\n",
        "\n",
        "To showcase this, let's create some *known* data using the linear regression formula:\n",
        "\n",
        "### Linear Regression Formula\n",
        "\n",
        "Linear regression models the relationship between a dependent variable (target) and one or more independent variables (features). The formula is:\n",
        "\n",
        "**y = β<sub>0</sub> + β<sub>1</sub>x<sub>1</sub> + β<sub>2</sub>x<sub>2</sub> + ... + β<sub>n</sub>x<sub>n</sub> + ε**\n",
        "\n",
        "- **y**: The predicted output (dependent variable).\n",
        "- **β<sub>0</sub>**: The intercept (constant term).\n",
        "- **β<sub>1</sub>, β<sub>2</sub>, ..., β<sub>n</sub>**: Coefficients representing the impact of each independent variable (x<sub>1</sub>, x<sub>2</sub>, ..., x<sub>n</sub>).\n",
        "- **x<sub>1</sub>, x<sub>2</sub>, ..., x<sub>n</sub>**: Independent variables (features).\n",
        "- **ε**: Error term (difference between predicted and actual values).\n",
        "\n",
        "In simple linear regression (one feature), the formula simplifies to:\n",
        "\n",
        "**y = β<sub>0</sub> + β<sub>1</sub>x + ε**\n",
        "\n",
        "We'll use a linear regression formula to make a straight line with *known* **parameters**.\n"
      ]
    },
    {
      "cell_type": "code",
      "execution_count": null,
      "metadata": {
        "id": "1iT7is6f7qOY",
        "outputId": "c2c054c3-260f-41bc-b1fe-5aa77b8c7e64"
      },
      "outputs": [
        {
          "data": {
            "text/plain": [
              "(tensor([[0.0000],\n",
              "         [0.0200],\n",
              "         [0.0400],\n",
              "         [0.0600],\n",
              "         [0.0800],\n",
              "         [0.1000],\n",
              "         [0.1200],\n",
              "         [0.1400],\n",
              "         [0.1600],\n",
              "         [0.1800]]),\n",
              " tensor([[0.3000],\n",
              "         [0.3140],\n",
              "         [0.3280],\n",
              "         [0.3420],\n",
              "         [0.3560],\n",
              "         [0.3700],\n",
              "         [0.3840],\n",
              "         [0.3980],\n",
              "         [0.4120],\n",
              "         [0.4260]]))"
            ]
          },
          "execution_count": 35,
          "metadata": {},
          "output_type": "execute_result"
        }
      ],
      "source": [
        "# Create *known* parameters for linear regression\n",
        "weight = 0.7  # The slope (coefficient) of the line (β₁ in y = β₀ + β₁x)\n",
        "bias = 0.3    # The intercept (constant) of the line (β₀ in y = β₀ + β₁x)\n",
        "\n",
        "# Create input data (X) for linear regression\n",
        "start = 0     # Starting value of X (independent variable)\n",
        "end = 1       # Ending value of X\n",
        "step = 0.02   # Step size for generating values of X (i.e., increments of 0.02)\n",
        "X = torch.arange(start, end, step).unsqueeze(dim=1)\n",
        "# torch.arange creates a range of values from 0 to 1 (exclusive) with step size of 0.02\n",
        "# unsqueeze adds a dimension to the tensor (makes it a column vector). This is important to do for later on when we work with models\n",
        "\n",
        "# Generate target values (y) using the linear regression formula\n",
        "y = weight * X + bias  # This simulates a linear relationship between X and y (y = β₀ + β₁x)\n",
        "\n",
        "# Output the first 10 values of X and y (input and output #s)\n",
        "X[:10], y[:10]\n"
      ]
    },
    {
      "cell_type": "code",
      "execution_count": null,
      "metadata": {
        "id": "JYPKq2MU7qOY",
        "outputId": "9fadaf8e-92ac-444e-eb09-9ff4ba3220b4"
      },
      "outputs": [
        {
          "data": {
            "text/plain": [
              "(50, 50)"
            ]
          },
          "execution_count": 36,
          "metadata": {},
          "output_type": "execute_result"
        }
      ],
      "source": [
        "len(X), len(y)"
      ]
    },
    {
      "cell_type": "markdown",
      "metadata": {
        "id": "kvY229MP7qOY"
      },
      "source": [
        "### Splitting data into training and test sets (one of the most important concepts in ML in general)\n",
        "\n",
        "| Split | Purpose | Amount of total data | How often is it used? |\n",
        "| ----- | ----- | ----- | ----- |\n",
        "| **Training set** | The model learns from this data (like the course materials you study during the semester). | ~60-80% | Always |\n",
        "| **Validation set** | The model gets tuned on this data (like the practice exam you take before the final exam). | ~10-20% | Often but not always |\n",
        "| **Testing set** | The model gets evaluated on this data to test what it has learned (like the final exam you take at the end of the semester). | ~10-20% | Always |\n",
        "\n",
        "**Goal**: Generalization - The ability for a ML model to perform well on data it hasn't seen before."
      ]
    },
    {
      "cell_type": "code",
      "execution_count": null,
      "metadata": {
        "id": "eqOXsap97qOZ",
        "outputId": "f5426a7a-07c8-47cf-c7c3-1f39ef5398c6"
      },
      "outputs": [
        {
          "data": {
            "text/plain": [
              "(40, 40, 10, 10)"
            ]
          },
          "execution_count": 37,
          "metadata": {},
          "output_type": "execute_result"
        }
      ],
      "source": [
        "# Create a train/test split\n",
        "\n",
        "# Calculate the index to split the data (80% for training, 20% for testing)\n",
        "train_split = int(0.8 * len(X))  # 80% of the length of the dataset will be for training\n",
        "train_split  # This variable holds the index for splitting the data\n",
        "\n",
        "# Split the data into training and testing sets\n",
        "X_train, y_train = X[:train_split], y[:train_split]  # The first 80% of X and y for training\n",
        "X_test, y_test = X[train_split:], y[train_split:]    # The remaining 20% of X and y for testing\n",
        "\n",
        "# Output the lengths of the training and testing sets for verification (training split + test split))\n",
        "len(X_train), len(y_train), len(X_test), len(y_test)\n"
      ]
    },
    {
      "cell_type": "markdown",
      "metadata": {
        "id": "WGu8pFz-7qOZ"
      },
      "source": [
        "How might we better visualize our data?\n",
        "\n",
        "This is where the data explorer's motto comes in!\n",
        "\n",
        "\"Visualize, visualize, visualize!\""
      ]
    },
    {
      "cell_type": "code",
      "execution_count": null,
      "metadata": {
        "id": "ERSCXFwq7qOZ"
      },
      "outputs": [],
      "source": [
        "def plot_predictions(train_data=X_train,\n",
        "                     train_labels=y_train,\n",
        "                     test_data=X_test,\n",
        "                     test_labels=y_test,\n",
        "                     predictions=None):\n",
        "    \"\"\"\n",
        "    Plots training data, test data, and compares predictions if provided.\n",
        "\n",
        "    Parameters:\n",
        "    - train_data: The input features for training data (X_train).\n",
        "    - train_labels: The corresponding target values for training data (y_train).\n",
        "    - test_data: The input features for test data (X_test).\n",
        "    - test_labels: The corresponding target values for test data (y_test).\n",
        "    - predictions: The predicted values (optional) for the test data.\n",
        "    \"\"\"\n",
        "\n",
        "    # https://matplotlib.org/stable/api/_as_gen/matplotlib.pyplot.scatter.html\n",
        "\n",
        "    # Plot training data in blue\n",
        "    plt.scatter(train_data, train_labels, c=\"b\", s=4, label=\"Training data\")\n",
        "    # `plt.scatter` creates a scatter plot for the training data (X_train, y_train) in blue (c=\"b\").\n",
        "    # `s=4` sets the size of the points to 4, and `label` adds a legend entry for the training data.\n",
        "\n",
        "    # Plot test data in green\n",
        "    plt.scatter(test_data, test_labels, c=\"g\", s=4, label=\"Test data\")\n",
        "    # Similarly, test data (X_test, y_test) is plotted in green (c=\"g\") with a legend entry for the test data.\n",
        "\n",
        "    # Plot predictions in red if they exist\n",
        "    if predictions is not None:\n",
        "        plt.scatter(test_data, predictions, c=\"r\", s=4, label=\"Predictions\")\n",
        "        # If predictions are provided, they are plotted in red (c=\"r\").\n",
        "        # This shows how the predicted values compare to the actual test data.\n",
        "\n",
        "    # Plot a line of best fit (if predictions exist)\n",
        "    if predictions is not None:\n",
        "        plt.plot(test_data, predictions, c=\"r\", label=\"Line of best fit\")\n",
        "        # `plt.plot` creates a line of best fit using the test data and the predictions.\n",
        "        # This red line represents the linear relationship the model has learned.\n",
        "\n",
        "     # Add legend and labels\n",
        "    plt.legend(prop={\"size\": 14})  # Displays the legend with font size 14 to differentiate training, test data, and predictions.\n",
        "\n",
        "    plt.xlabel(\"X\")  # Labels the x-axis as \"X\" (the input feature).\n",
        "\n",
        "    plt.ylabel(\"y\")  # Labels the y-axis as \"y\" (the target/output variable).\n",
        "\n",
        "    # The final plot will show:\n",
        "    # - Training data in blue\n",
        "    # - Test data in green\n",
        "    # - Predictions and line of best fit (if provided) in red\n",
        "    # With a larger, clearer legend to distinguish between these elements.\n",
        "\n",
        "\n",
        "    # The final plot will show training data in blue, test data in green, and, if provided, predictions and the line of best fit in red.\n"
      ]
    },
    {
      "cell_type": "code",
      "execution_count": null,
      "metadata": {
        "id": "wGRFIURc7qOZ",
        "outputId": "fab95e8b-8f9c-4141-a7ea-ab0f159c5416"
      },
      "outputs": [
        {
          "data": {
            "image/png": "[encoded data removed]",
            "text/plain": [
              "<Figure size 640x480 with 1 Axes>"
            ]
          },
          "metadata": {},
          "output_type": "display_data"
        }
      ],
      "source": [
        "plot_predictions();"
      ]
    },
    {
      "cell_type": "markdown",
      "metadata": {
        "id": "fUzqWB257qOZ"
      },
      "source": [
        "## 2. Build Model\n",
        "\n",
        "Now that we've got some data, let's build a model to use the blue dots to predict the green dots.\n",
        "\n",
        "This is where we will need OOP.\n",
        "\n",
        "### What our model does:\n",
        "* Start with random values (weight & bias)\n",
        "* Look at training data and adjust the random values to better represent (or get closer to) the ideal values (the weight and bias values we used to create the data)\n",
        "\n",
        "### How does it do so?\n",
        "Through 2 main algorithms:\n",
        "1. **Gradient descent**: An optimization algorithm that iteratively adjusts the model's parameters to minimize a loss function. In this case, the loss function is the Mean Squared Error (MSE) between the predicted values. (This is why we need requires_grad=True)\n",
        "2. **Backpropagation**: Compute the gradient of the loss function with respect to the weights and biases using the chain rule.\n"
      ]
    },
    {
      "cell_type": "code",
      "execution_count": null,
      "metadata": {
        "id": "U7NvjRtg7qOZ"
      },
      "outputs": [],
      "source": [
        "# Create a linear regression model class inheriting from nn.Module (the base class for all neural network modules)\n",
        "class LinearRegressionModel(nn.Module):\n",
        "    def __init__(self):\n",
        "        # super will call the __init__ method of the parent class (nn.Module) to ensure that all its functionality is initialized\n",
        "        super().__init__()\n",
        "        # Define the weights parameter initialized randomly with requires_grad=True to compute gradients for optimization\n",
        "        self.weights = nn.Parameter(torch.randn(1, requires_grad=True, dtype=torch.float))\n",
        "        # Define the bias parameter initialized randomly with requires_grad=True to compute gradients\n",
        "        self.bias = nn.Parameter(torch.randn(1, requires_grad=True, dtype=torch.float))\n",
        "\n",
        "    # Define the forward method which handles the forward pass (computation) of the model\n",
        "    def forward(self, x: torch.Tensor) -> torch.Tensor:\n",
        "        # Apply the linear regression formula y = wx + b\n",
        "        return self.weights * x + self.bias\n",
        "\n",
        "# The goal is to start with random weights and biases, run it through the forward pass,\n",
        "# and then update the weights and biases to represent the known parameters (currently 0.7 and 0.3)\n",
        "# as closely as possible"
      ]
    },
    {
      "cell_type": "markdown",
      "metadata": {
        "id": "zAg7cng07qOZ"
      },
      "source": [
        "### PyTorch model building essentials\n",
        "\n",
        "PyTorch has four (give or take) essential modules you can use to create almost any kind of neural network you can imagine.\n",
        "\n",
        "They are [`torch.nn`](https://pytorch.org/docs/stable/nn.html), [`torch.optim`](https://pytorch.org/docs/stable/optim.html), [`torch.utils.data.Dataset`](https://pytorch.org/docs/stable/data.html#torch.utils.data.Dataset) and [`torch.utils.data.DataLoader`](https://pytorch.org/docs/stable/data.html). For now, we'll focus on the first two and get to the other two later (though you may be able to guess what they do).\n",
        "\n",
        "| PyTorch module | What does it do? |\n",
        "| ----- | ----- |\n",
        "| [`torch.nn`](https://pytorch.org/docs/stable/nn.html) | Contains all of the building blocks for computational graphs (essentially a series of computations executed in a particular way). |\n",
        "| [`torch.nn.Parameter`](https://pytorch.org/docs/stable/generated/torch.nn.parameter.Parameter.html#parameter) | Stores tensors that can be used with `nn.Module`. If `requires_grad=True` gradients (used for updating model parameters via [**gradient descent**](https://ml-cheatsheet.readthedocs.io/en/latest/gradient_descent.html))  are calculated automatically, this is often referred to as \"autograd\".  |\n",
        "| [`torch.nn.Module`](https://pytorch.org/docs/stable/generated/torch.nn.Module.html#torch.nn.Module) | The base class for all neural network modules, all the building blocks for neural networks are subclasses. If you're building a neural network in PyTorch, your models should subclass `nn.Module`. Requires a `forward()` method be implemented. |\n",
        "| [`torch.optim`](https://pytorch.org/docs/stable/optim.html) | Contains various optimization algorithms (these tell the model parameters stored in `nn.Parameter` how to best change to improve gradient descent and in turn reduce the loss). |\n",
        "| `def forward()` | All `nn.Module` subclasses require a `forward()` method, this defines the computation that will take place on the data passed to the particular `nn.Module` (e.g. the linear regression formula above). |\n",
        "\n",
        "If the above sounds complex, think of like this, almost everything in a PyTorch neural network comes from `torch.nn`,\n",
        "* `nn.Module` contains the larger building blocks (layers)\n",
        "* `nn.Parameter` contains the smaller parameters like weights and biases (put these together to make `nn.Module`(s))\n",
        "* `forward()` tells the larger blocks how to make calculations on inputs (tensors full of data) within  `nn.Module`(s)\n",
        "* `torch.optim` contains optimization methods on how to improve the parameters within `nn.Parameter` to better represent input data\n",
        "\n",
        "![a pytorch linear model with annotations](https://raw.githubusercontent.com/mrdbourke/pytorch-deep-learning/main/images/01-pytorch-linear-model-annotated.png)\n",
        "*Basic building blocks of creating a PyTorch model by subclassing `nn.Module`. For objects that subclass `nn.Module`, the `forward()` method must be defined.*\n",
        "\n",
        "> **Resource:** See more of these essential modules and their use cases in the [PyTorch Cheat Sheet](https://pytorch.org/tutorials/beginner/ptcheat.html).\n"
      ]
    }
  ],
  "metadata": {
    "kernelspec": {
      "display_name": ".venv",
      "language": "python",
      "name": "python3"
    },
    "language_info": {
      "codemirror_mode": {
        "name": "ipython",
        "version": 3
      },
      "file_extension": ".py",
      "mimetype": "text/x-python",
      "name": "python",
      "nbconvert_exporter": "python",
      "pygments_lexer": "ipython3",
      "version": "3.12.6"
    },
    "colab": {
      "provenance": [],
      "include_colab_link": true
    }
  },
  "nbformat": 4,
  "nbformat_minor": 0
}